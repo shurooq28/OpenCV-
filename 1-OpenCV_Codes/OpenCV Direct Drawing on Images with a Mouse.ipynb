{
 "cells": [
  {
   "cell_type": "code",
   "execution_count": 1,
   "id": "c82375b5",
   "metadata": {},
   "outputs": [],
   "source": [
    "import numpy as np\n",
    "import cv2 "
   ]
  },
  {
   "cell_type": "code",
   "execution_count": 2,
   "id": "0b1a5f49",
   "metadata": {},
   "outputs": [],
   "source": [
    "######################\n",
    "##  Function #########\n",
    "######################\n",
    "\n",
    "def draw_circle( event , x , y , flags, param ):\n",
    "    if event == cv2.EVENT_LBUTTONDOWN:\n",
    "        cv2.circle( img , (x,y) , 100 , (0,255,0) , -1)\n",
    "        \n",
    "    elif event == cv2.EVENT_RBUTTONDOWN:\n",
    "        cv2.circle( img , (x,y) , 100 , (0,0,255) , -1)\n",
    "\n",
    "\n",
    "cv2.namedWindow(winname= 'mydrawing')\n",
    "\n",
    "\n",
    "cv2.setMouseCallback('mydrawing', draw_circle)\n",
    "\n",
    "\n",
    "#######################################\n",
    "##  Showing Image with OpenCV #########\n",
    "#######################################\n",
    "\n",
    "img= np.zeros(shape=(512,512,3)) # for gray screen add dtype=np.int8 but for black screen just remove the dtype\n",
    "\n",
    "while True:\n",
    "    \n",
    "    cv2.imshow('mydrawing', img)\n",
    "    \n",
    "    if cv2.waitKey(20) & 0xFF == 27 :\n",
    "        break\n",
    "        \n",
    "cv2.destroyAllWindows()  "
   ]
  },
  {
   "cell_type": "code",
   "execution_count": null,
   "id": "7720ae1c",
   "metadata": {},
   "outputs": [],
   "source": [
    "      "
   ]
  }
 ],
 "metadata": {
  "kernelspec": {
   "display_name": "Python 3",
   "language": "python",
   "name": "python3"
  },
  "language_info": {
   "codemirror_mode": {
    "name": "ipython",
    "version": 3
   },
   "file_extension": ".py",
   "mimetype": "text/x-python",
   "name": "python",
   "nbconvert_exporter": "python",
   "pygments_lexer": "ipython3",
   "version": "3.8.7"
  }
 },
 "nbformat": 4,
 "nbformat_minor": 5
}
