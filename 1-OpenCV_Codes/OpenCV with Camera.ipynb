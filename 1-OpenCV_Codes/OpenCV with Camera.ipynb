{
 "cells": [
  {
   "cell_type": "code",
   "execution_count": 9,
   "id": "00c092f0",
   "metadata": {},
   "outputs": [],
   "source": [
    "import cv2\n",
    "\n",
    "\n",
    "cap= cv2.VideoCapture(0) #--->  0 for grab default camera\n",
    "\n",
    "\n",
    "width= int(cap.get(cv2.CAP_PROP_FRAME_WIDTH))   # To grab the actual width and height of the actual capture\n",
    "height=int(cap.get(cv2.CAP_PROP_FRAME_HEIGHT))  # get returns a float number so we use int \n",
    " \n",
    "writer = cv2.VideoWriter(\"D:/Videos/new.mp4\", cv2.VideoWriter_fourcc(*'DIVX'),20,(width,height))#For Windows--> *'DIVX'\n",
    "\n",
    "while True:\n",
    "    \n",
    "    ret, frame = cap.read()   \n",
    "    \n",
    "    #gray = cv2.cvtColor(frame, cv2.COLOR_BGR2GRAY)\n",
    "    \n",
    "    #cv2.imshow('frame', gray)\n",
    "    \n",
    "    writer.write(frame)\n",
    "    cv2.imshow('frame', frame)\n",
    "    \n",
    "    if cv2.waitKey(1) & 0xFF== ord('q'):\n",
    "        break\n",
    "        \n",
    "        \n",
    "        \n",
    "cap.release()        \n",
    "writer.release()        \n",
    "cv2.destroyAllWindows()        \n"
   ]
  },
  {
   "cell_type": "code",
   "execution_count": 6,
   "id": "c413774e",
   "metadata": {},
   "outputs": [
    {
     "data": {
      "text/plain": [
       "'C:\\\\Users\\\\shoro'"
      ]
     },
     "execution_count": 6,
     "metadata": {},
     "output_type": "execute_result"
    }
   ],
   "source": [
    "pwd"
   ]
  },
  {
   "cell_type": "code",
   "execution_count": null,
   "id": "6d7e9024",
   "metadata": {},
   "outputs": [],
   "source": []
  }
 ],
 "metadata": {
  "kernelspec": {
   "display_name": "Python 3",
   "language": "python",
   "name": "python3"
  },
  "language_info": {
   "codemirror_mode": {
    "name": "ipython",
    "version": 3
   },
   "file_extension": ".py",
   "mimetype": "text/x-python",
   "name": "python",
   "nbconvert_exporter": "python",
   "pygments_lexer": "ipython3",
   "version": "3.8.7"
  }
 },
 "nbformat": 4,
 "nbformat_minor": 5
}
