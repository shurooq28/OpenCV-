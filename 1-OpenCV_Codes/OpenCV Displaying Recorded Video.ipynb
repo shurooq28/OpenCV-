{
 "cells": [
  {
   "cell_type": "code",
   "execution_count": 3,
   "id": "c68f4280",
   "metadata": {},
   "outputs": [],
   "source": [
    "import cv2\n",
    "import time\n",
    "\n",
    "cap = cv2.VideoCapture(\"C:/Users/shoro/Downloads/videoplayback.mp4\")\n",
    "\n",
    "if cap.isOpened()== False :\n",
    "    print(\"Error File Not Found!\")\n",
    "\n",
    "while cap.isOpened():                    # while the capture is working   \n",
    "    ret, frame= cap.read()              # go and read the capture\n",
    "    \n",
    "    if ret== True: # while still returning something\n",
    "        time.sleep(1/20)\n",
    "        cv2.imshow(\"frame\", frame)     #show the frames \n",
    "        if cv2.waitKey(10)& 0xFF==ord('q'):\n",
    "            break\n",
    "            \n",
    "    else:\n",
    "        break\n",
    "        \n",
    "cap.release()\n",
    "cv2.destroyAllWindows()"
   ]
  },
  {
   "cell_type": "code",
   "execution_count": null,
   "id": "e440d348",
   "metadata": {},
   "outputs": [],
   "source": []
  }
 ],
 "metadata": {
  "kernelspec": {
   "display_name": "Python 3 (ipykernel)",
   "language": "python",
   "name": "python3"
  },
  "language_info": {
   "codemirror_mode": {
    "name": "ipython",
    "version": 3
   },
   "file_extension": ".py",
   "mimetype": "text/x-python",
   "name": "python",
   "nbconvert_exporter": "python",
   "pygments_lexer": "ipython3",
   "version": "3.10.7"
  }
 },
 "nbformat": 4,
 "nbformat_minor": 5
}
