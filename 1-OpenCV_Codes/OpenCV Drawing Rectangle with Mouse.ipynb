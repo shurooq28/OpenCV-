{
 "cells": [
  {
   "cell_type": "code",
   "execution_count": 1,
   "id": "6f37524e",
   "metadata": {},
   "outputs": [],
   "source": [
    "import cv2\n",
    "import numpy as np"
   ]
  },
  {
   "cell_type": "code",
   "execution_count": 5,
   "id": "0aaa4f11",
   "metadata": {},
   "outputs": [],
   "source": [
    "# Variables\n",
    "\n",
    "drawing = False    # True while mouse button down , False while mouse button up\n",
    " \n",
    "ix , iy = -1 , -1\n",
    "\n",
    "\n",
    "# Function\n",
    "\n",
    "def draw_rectangle(event, x , y , flags , params ) :\n",
    "    \n",
    "    global ix , iy , drawing\n",
    "    \n",
    "    if event == cv2.EVENT_LBUTTONDOWN :\n",
    "        \n",
    "        drawing= True\n",
    "        ix, iy = x , y\n",
    "        \n",
    "    elif event == cv2.EVENT_MOUSEMOVE:\n",
    "        if drawing == True:\n",
    "            cv2.rectangle(img, (ix,iy) , (x,y) , (0,255,0) , -1)\n",
    "    \n",
    "    elif event == cv2.EVENT_LBUTTONUP:\n",
    "        drawing = False\n",
    "        cv2.rectangle(img, (ix,iy) , (x,y) , (0,255,0) , -1)\n",
    "    \n",
    "# Showing the Image\n",
    "\n",
    "img = np.zeros((512,512,3))\n",
    "\n",
    "cv2.namedWindow(winname='my_drawing')\n",
    "\n",
    "cv2.setMouseCallback('my_drawing', draw_rectangle )\n",
    "\n",
    "while True:\n",
    "    cv2.imshow('my_drawing', img)\n",
    "    \n",
    "    if cv2.waitKey(1) & 0xFF == 27:\n",
    "        break\n",
    "        \n",
    "cv2.destroyAllWindows()        \n",
    "        \n"
   ]
  },
  {
   "cell_type": "code",
   "execution_count": null,
   "id": "6bfe502d",
   "metadata": {},
   "outputs": [],
   "source": []
  }
 ],
 "metadata": {
  "kernelspec": {
   "display_name": "Python 3 (ipykernel)",
   "language": "python",
   "name": "python3"
  },
  "language_info": {
   "codemirror_mode": {
    "name": "ipython",
    "version": 3
   },
   "file_extension": ".py",
   "mimetype": "text/x-python",
   "name": "python",
   "nbconvert_exporter": "python",
   "pygments_lexer": "ipython3",
   "version": "3.10.7"
  }
 },
 "nbformat": 4,
 "nbformat_minor": 5
}
